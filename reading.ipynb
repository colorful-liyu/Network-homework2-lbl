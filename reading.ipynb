{
 "cells": [
  {
   "cell_type": "code",
   "execution_count": 1,
   "metadata": {},
   "outputs": [
    {
     "name": "stdout",
     "output_type": "stream",
     "text": [
      "dict_keys(['sub_0', 'sub_1', 'sub_2', 'sub_3', 'sub_4'])\n",
      "\n",
      "\n",
      "sub_0\n",
      "(3397, 310)\n",
      "<built-in method max of numpy.ndarray object at 0x000001273FD11B20>\n",
      "<built-in method min of numpy.ndarray object at 0x000001273FD11B20>\n",
      "\n",
      "\n",
      "sub_1\n",
      "(3397, 310)\n",
      "<built-in method max of numpy.ndarray object at 0x000001273FD96B20>\n",
      "<built-in method min of numpy.ndarray object at 0x000001273FD96B20>\n",
      "\n",
      "\n",
      "sub_2\n",
      "(3397, 310)\n",
      "<built-in method max of numpy.ndarray object at 0x000001273FD96BC0>\n",
      "<built-in method min of numpy.ndarray object at 0x000001273FD96BC0>\n",
      "\n",
      "\n",
      "sub_3\n",
      "(3397, 310)\n",
      "<built-in method max of numpy.ndarray object at 0x000001273FD96C60>\n",
      "<built-in method min of numpy.ndarray object at 0x000001273FD96C60>\n",
      "\n",
      "\n",
      "sub_4\n",
      "(3397, 310)\n",
      "<built-in method max of numpy.ndarray object at 0x00000127391656C0>\n",
      "<built-in method min of numpy.ndarray object at 0x00000127391656C0>\n",
      "\n",
      "\n"
     ]
    }
   ],
   "source": [
    "import pickle\n",
    "\n",
    "with open('data.pkl', 'rb') as f:\n",
    "    data = pickle.load(f)\n",
    "\n",
    "print(data.keys())\n",
    "print('\\n')\n",
    "\n",
    "for item in list(data.keys()):\n",
    "    print(item)\n",
    "    print(data[item]['data'].shape)\n",
    "    print(data[item]['data'].max)\n",
    "    print(data[item]['data'].min)\n",
    "    # print(data[item]['label'].shape)\n",
    "    print('\\n')"
   ]
  }
 ],
 "metadata": {
  "interpreter": {
   "hash": "eebc8f6983f648eca6dc38eede2a551270e3a1db427f979c6c319fc87ae4b3e6"
  },
  "kernelspec": {
   "display_name": "Python 3.8.5 ('taming')",
   "language": "python",
   "name": "python3"
  },
  "language_info": {
   "codemirror_mode": {
    "name": "ipython",
    "version": 3
   },
   "file_extension": ".py",
   "mimetype": "text/x-python",
   "name": "python",
   "nbconvert_exporter": "python",
   "pygments_lexer": "ipython3",
   "version": "3.8.12"
  },
  "orig_nbformat": 4
 },
 "nbformat": 4,
 "nbformat_minor": 2
}
